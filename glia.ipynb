{
 "cells": [
  {
   "cell_type": "code",
   "execution_count": 1,
   "id": "41c22cd3",
   "metadata": {},
   "outputs": [],
   "source": [
    "#%matplotlib inline\n",
    "#import matplotlib.pyplot as plt\n",
    "#plt.rcParams[\"figure.figsize\"] = (11, 5)  #set default figure size\n",
    "\n",
    "#from scipy.special import factorial\n",
    "\n",
    "#from mpl_toolkits.mplot3d import Axes3D\n",
    "#import statsmodels.api as sm\n",
    "#from statsmodels.api import Poisson\n",
    "#from scipy import stats\n",
    "#from scipy.stats import norm\n",
    "#from statsmodels.iolib.summary2 import summary_col"
   ]
  },
  {
   "cell_type": "code",
   "execution_count": null,
   "id": "4e34bcdb",
   "metadata": {},
   "outputs": [],
   "source": [
    "# Packages and Data Load"
   ]
  },
  {
   "cell_type": "code",
   "execution_count": 41,
   "id": "49a02cea",
   "metadata": {},
   "outputs": [],
   "source": [
    "import numpy as np\n",
    "import pandas as pd\n",
    "from numpy import exp\n",
    "#import os\n",
    "import ipywidgets as widgets\n",
    "from IPython.display import display\n",
    "import plotly_express as px"
   ]
  },
  {
   "cell_type": "code",
   "execution_count": null,
   "id": "510405c3",
   "metadata": {},
   "outputs": [],
   "source": []
  },
  {
   "cell_type": "code",
   "execution_count": 42,
   "id": "1d7dd2dc",
   "metadata": {},
   "outputs": [],
   "source": [
    "#df_tickets=pd.read_csv('/Users/danila.pankov/Downloads/glia.csv')\n",
    "df_tickets=pd.read_csv('glia.csv')"
   ]
  },
  {
   "cell_type": "code",
   "execution_count": null,
   "id": "b401e4b8",
   "metadata": {},
   "outputs": [],
   "source": []
  },
  {
   "cell_type": "code",
   "execution_count": 43,
   "id": "8e8c2e46",
   "metadata": {},
   "outputs": [],
   "source": [
    "#df_cleaned.head()"
   ]
  },
  {
   "cell_type": "code",
   "execution_count": null,
   "id": "9169b7fa",
   "metadata": {},
   "outputs": [],
   "source": [
    "# Data Adjustments"
   ]
  },
  {
   "cell_type": "code",
   "execution_count": 44,
   "id": "8f4b0bd8",
   "metadata": {},
   "outputs": [],
   "source": [
    "#source data cleaned\n",
    "df=df_tickets.copy()\n",
    "df[\"source_improved\"]=df['source']\n",
    "df.loc[df['source']=='tab', 'source_improved']='Glia'\n",
    "df.loc[df['source']=='button_embed', 'source_improved']='Website'\n",
    "df.loc[df['source']=='sdk', 'source_improved']='App'\n",
    "df.loc[df['source']=='offline_phone', 'source_improved']='Phone'\n",
    "\n",
    "\n",
    "df['queued_at'] = pd.to_datetime(df['queued_at'])\n",
    "\n",
    "df['connected']=0\n",
    "df.loc[df['outcome']=='finished', 'connected']=1"
   ]
  },
  {
   "cell_type": "code",
   "execution_count": 49,
   "id": "0f2ffd10",
   "metadata": {},
   "outputs": [],
   "source": [
    "df_cleaned=df.copy()\n",
    "df_cleaned=df_cleaned.drop(columns='source')\n",
    "df_cleaned=df_cleaned.rename(columns={'source_improved': 'source'})"
   ]
  },
  {
   "cell_type": "code",
   "execution_count": null,
   "id": "7dd8428d",
   "metadata": {},
   "outputs": [],
   "source": []
  },
  {
   "cell_type": "code",
   "execution_count": 50,
   "id": "9b7612af",
   "metadata": {},
   "outputs": [
    {
     "name": "stdout",
     "output_type": "stream",
     "text": [
      "Dropped data with nan values in the source variables\n"
     ]
    }
   ],
   "source": [
    "#print(\"Dropped data with nan values in the source variables\")\n",
    "df_cleaned=df_cleaned[df.source.notnull()].copy()"
   ]
  },
  {
   "cell_type": "code",
   "execution_count": null,
   "id": "87ea96fc",
   "metadata": {},
   "outputs": [],
   "source": []
  },
  {
   "cell_type": "code",
   "execution_count": null,
   "id": "4f01116a",
   "metadata": {},
   "outputs": [],
   "source": []
  },
  {
   "cell_type": "code",
   "execution_count": 94,
   "id": "99ca47bb",
   "metadata": {},
   "outputs": [],
   "source": [
    "def multiple_selection(df, variable):\n",
    "    return widgets.SelectMultiple(\n",
    "        options=df[variable].unique(),\n",
    "        value=df[variable].unique().tolist(),\n",
    "        #rows=10,\n",
    "        description=variable,\n",
    "        disabled=False\n",
    "    )"
   ]
  },
  {
   "cell_type": "code",
   "execution_count": 110,
   "id": "71eba56f",
   "metadata": {},
   "outputs": [],
   "source": [
    "#df_cleaned.queue_id.unique().tolist()"
   ]
  },
  {
   "cell_type": "code",
   "execution_count": 111,
   "id": "2e621b0b",
   "metadata": {},
   "outputs": [],
   "source": [
    "#type([\"68058f1a9c69\", '23825e66b683'])\n"
   ]
  },
  {
   "cell_type": "code",
   "execution_count": 97,
   "id": "34675184",
   "metadata": {},
   "outputs": [],
   "source": [
    "queue=multiple_selection(df_cleaned, \"queue_id\" )\n",
    "#queue"
   ]
  },
  {
   "cell_type": "code",
   "execution_count": 98,
   "id": "606c5a0d",
   "metadata": {},
   "outputs": [],
   "source": [
    "source=multiple_selection(df_cleaned, \"source\")\n",
    "#source"
   ]
  },
  {
   "cell_type": "code",
   "execution_count": 55,
   "id": "474e2787",
   "metadata": {},
   "outputs": [],
   "source": [
    "#source.value"
   ]
  },
  {
   "cell_type": "code",
   "execution_count": null,
   "id": "d256f160",
   "metadata": {},
   "outputs": [],
   "source": []
  },
  {
   "cell_type": "code",
   "execution_count": 99,
   "id": "fc0b8879",
   "metadata": {},
   "outputs": [],
   "source": [
    "media=multiple_selection(df_cleaned, \"requested_media_type\")\n",
    "#media"
   ]
  },
  {
   "cell_type": "code",
   "execution_count": 100,
   "id": "4e5c7be4",
   "metadata": {},
   "outputs": [],
   "source": [
    "#outcome=multiple_selection(df_cleaned, \"outcome\", 'finished')\n",
    "#outcome"
   ]
  },
  {
   "cell_type": "code",
   "execution_count": 101,
   "id": "6947b1ad",
   "metadata": {},
   "outputs": [],
   "source": [
    "#outcome.value"
   ]
  },
  {
   "cell_type": "code",
   "execution_count": 102,
   "id": "e5af0062",
   "metadata": {},
   "outputs": [],
   "source": [
    "#df.outcome.isin(outcome.value)"
   ]
  },
  {
   "cell_type": "code",
   "execution_count": 103,
   "id": "1fb574b7",
   "metadata": {},
   "outputs": [],
   "source": [
    "freq='M' # or 'D' or 'Y'\n",
    "df=df_cleaned.copy()\n",
    "    \n",
    "#print(df)\n",
    "df_plot = df[['queued_at', 'connected','source']]\\\n",
    "        .groupby(['source',pd.Grouper(key='queued_at', freq=freq)])['connected'].agg(\n",
    "        mean='mean', count='count').reset_index()\n",
    "#df_plot"
   ]
  },
  {
   "cell_type": "code",
   "execution_count": 104,
   "id": "45463833",
   "metadata": {},
   "outputs": [],
   "source": [
    "from datetime import datetime\n",
    "\n",
    "start_date = df_cleaned.queued_at.dt.date.min()\n",
    "end_date = df_cleaned.queued_at.dt.date.max()\n",
    "#print(start_date)\n",
    "dates = pd.date_range(start_date, end_date, freq='D')\n",
    "\n",
    "options = [(date.strftime(' %d %b %Y '), date) for date in dates]\n",
    "index = (0, len(options)-1)\n",
    "\n",
    "selection_range_slider = widgets.SelectionRangeSlider(\n",
    "    options=options,\n",
    "    index=index,\n",
    "    description='Dates',\n",
    "    orientation='horizontal',\n",
    "    layout={'width': '500px'}\n",
    ")\n",
    "\n",
    "#selection_range_slider"
   ]
  },
  {
   "cell_type": "code",
   "execution_count": null,
   "id": "5302b93a",
   "metadata": {},
   "outputs": [],
   "source": []
  },
  {
   "cell_type": "code",
   "execution_count": 105,
   "id": "f33dba9c",
   "metadata": {},
   "outputs": [],
   "source": [
    "#df_cleaned"
   ]
  },
  {
   "cell_type": "code",
   "execution_count": 106,
   "id": "494f41c3",
   "metadata": {},
   "outputs": [],
   "source": [
    "df_cleaned['hour_of_the_week'] = df_cleaned['queued_at'].dt.dayofweek * 24 + (df_cleaned['queued_at'].dt.hour + 1)"
   ]
  },
  {
   "cell_type": "code",
   "execution_count": 107,
   "id": "c233c879",
   "metadata": {},
   "outputs": [],
   "source": [
    "#df_cleaned[df_cleaned.queued_at.dt.date<df_cleaned.queued_at.dt.date.max()]"
   ]
  },
  {
   "cell_type": "code",
   "execution_count": 109,
   "id": "979c6695",
   "metadata": {},
   "outputs": [
    {
     "data": {
      "application/vnd.jupyter.widget-view+json": {
       "model_id": "0ebe0a716ac649268ec2b3095160118f",
       "version_major": 2,
       "version_minor": 0
      },
      "text/plain": [
       "interactive(children=(SelectMultiple(description='queue_id', index=(0, 1, 2, 3), options=('68058f1a9c69', '238…"
      ]
     },
     "metadata": {},
     "output_type": "display_data"
    }
   ],
   "source": [
    "def update_map( queue, source, media):\n",
    "    freq='H' # or 'D' or 'Y'\n",
    "    df=df_cleaned.copy()\n",
    "    \n",
    "    #print(df)\n",
    "    df_plot = df[df.queue_id.isin(queue) & \n",
    "                 #df.outcome.isin(outcome) & \n",
    "        df.requested_media_type.isin(media) & \n",
    "        df.source.isin(source) &\n",
    "        (df.outcome!='visitor_conflict')][['hour_of_the_week', 'connected','source']]\\\n",
    "        .groupby(['source','hour_of_the_week'])['connected'].agg(\n",
    "        mean='mean', count='count').reset_index()\n",
    "    #print(df_plot)\n",
    "    #fig = px.area(df_plot, x='queued_at', y='mean')\n",
    "    #fig.show()\n",
    "    fig = px.scatter(df_plot, x=\"hour_of_the_week\", y=\"mean\", color='source',\n",
    "                 labels={\n",
    "                     \"hour_of_the_week\": \"Week Hour (0 - Monday 0:00, 167 - Sun 23:00)\",\n",
    "                     \"count\": \"Percent of Solved Tickets\",\n",
    "                     \"species\": \"Source Type\"\n",
    "                 },\n",
    "                title=\"Percent of Solved Tickets over Time\")\n",
    "    fig.show()\n",
    "    fig = px.scatter(df_plot, x=\"hour_of_the_week\", y=\"count\", color='source',\n",
    "                 labels={\n",
    "                     \"hour_of_the_week\": \"Week Hour (0 - Monday 0:00, 167 - Sun 23:00)\",\n",
    "                     \"count\": \"Total Number of Tickets\",\n",
    "                     \"species\": \"Source Type\"\n",
    "                 },\n",
    "                title=\"Number of Tickets over Time\")\n",
    "    fig.show()\n",
    "    \n",
    "widgets.interactive(update_map,queue=queue, source=source, media=media)"
   ]
  },
  {
   "cell_type": "code",
   "execution_count": 22,
   "id": "0857d300",
   "metadata": {},
   "outputs": [
    {
     "data": {
      "application/vnd.jupyter.widget-view+json": {
       "model_id": "527d48df502f4b4fa8563b6a02a50af4",
       "version_major": 2,
       "version_minor": 0
      },
      "text/plain": [
       "interactive(children=(SelectMultiple(description='queue_id', index=(0,), options=('68058f1a9c69', '23825e66b68…"
      ]
     },
     "metadata": {},
     "output_type": "display_data"
    }
   ],
   "source": [
    "def update_map( queue, source, media,date_range):\n",
    "    freq='H' # or 'D' or 'Y'\n",
    "    df=df_cleaned.copy()\n",
    "    \n",
    "    #print(df)\n",
    "    df_plot = df[df.queue_id.isin(queue) & \n",
    "                 #df.outcome.isin(outcome) & \n",
    "        df.requested_media_type.isin(media) & \n",
    "        df.source.isin(source) & \n",
    "        (df.queued_at.dt.date>= date_range[0]) & \n",
    "        (df.queued_at.dt.date< date_range[1])  &\n",
    "        (df.outcome!='unstaffed')][['queued_at', 'connected','source']]\\\n",
    "        .groupby(['source',pd.Grouper(key='queued_at', freq=freq)])['connected'].agg(\n",
    "        mean='mean', count='count').reset_index()\n",
    "    #print(df_plot)\n",
    "    #fig = px.area(df_plot, x='queued_at', y='mean')\n",
    "    #fig.show()\n",
    "    fig = px.line(df_plot, x=\"queued_at\", y=\"mean\", color='source')\n",
    "    fig.show()\n",
    "    fig = px.line(df_plot, x=\"queued_at\", y=\"count\", color='source')\n",
    "    fig.show()\n",
    "    \n",
    "widgets.interactive(update_map,queue=queue, source=source, media=media, date_range=selection_range_slider)"
   ]
  }
 ],
 "metadata": {
  "kernelspec": {
   "display_name": "Python 3 (ipykernel)",
   "language": "python",
   "name": "python3"
  },
  "language_info": {
   "codemirror_mode": {
    "name": "ipython",
    "version": 3
   },
   "file_extension": ".py",
   "mimetype": "text/x-python",
   "name": "python",
   "nbconvert_exporter": "python",
   "pygments_lexer": "ipython3",
   "version": "3.9.13"
  }
 },
 "nbformat": 4,
 "nbformat_minor": 5
}
